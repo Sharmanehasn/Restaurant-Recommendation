{
 "cells": [
  {
   "cell_type": "code",
   "execution_count": 1,
   "id": "077b74cf-3768-4c07-a911-e8a9f6445de5",
   "metadata": {},
   "outputs": [
    {
     "name": "stdout",
     "output_type": "stream",
     "text": [
      "Requirement already satisfied: openai==0.28 in c:\\users\\neha\\anaconda3\\lib\\site-packages (0.28.0)\n",
      "Requirement already satisfied: requests>=2.20 in c:\\users\\neha\\anaconda3\\lib\\site-packages (from openai==0.28) (2.32.2)\n",
      "Requirement already satisfied: tqdm in c:\\users\\neha\\anaconda3\\lib\\site-packages (from openai==0.28) (4.66.4)\n",
      "Requirement already satisfied: aiohttp in c:\\users\\neha\\anaconda3\\lib\\site-packages (from openai==0.28) (3.9.5)\n",
      "Requirement already satisfied: charset-normalizer<4,>=2 in c:\\users\\neha\\anaconda3\\lib\\site-packages (from requests>=2.20->openai==0.28) (2.0.4)\n",
      "Requirement already satisfied: idna<4,>=2.5 in c:\\users\\neha\\anaconda3\\lib\\site-packages (from requests>=2.20->openai==0.28) (3.7)\n",
      "Requirement already satisfied: urllib3<3,>=1.21.1 in c:\\users\\neha\\anaconda3\\lib\\site-packages (from requests>=2.20->openai==0.28) (2.2.2)\n",
      "Requirement already satisfied: certifi>=2017.4.17 in c:\\users\\neha\\anaconda3\\lib\\site-packages (from requests>=2.20->openai==0.28) (2024.8.30)\n",
      "Requirement already satisfied: aiosignal>=1.1.2 in c:\\users\\neha\\anaconda3\\lib\\site-packages (from aiohttp->openai==0.28) (1.2.0)\n",
      "Requirement already satisfied: attrs>=17.3.0 in c:\\users\\neha\\anaconda3\\lib\\site-packages (from aiohttp->openai==0.28) (23.1.0)\n",
      "Requirement already satisfied: frozenlist>=1.1.1 in c:\\users\\neha\\anaconda3\\lib\\site-packages (from aiohttp->openai==0.28) (1.4.0)\n",
      "Requirement already satisfied: multidict<7.0,>=4.5 in c:\\users\\neha\\anaconda3\\lib\\site-packages (from aiohttp->openai==0.28) (6.0.4)\n",
      "Requirement already satisfied: yarl<2.0,>=1.0 in c:\\users\\neha\\anaconda3\\lib\\site-packages (from aiohttp->openai==0.28) (1.9.3)\n",
      "Requirement already satisfied: colorama in c:\\users\\neha\\anaconda3\\lib\\site-packages (from tqdm->openai==0.28) (0.4.6)\n"
     ]
    }
   ],
   "source": [
    "## Import the open AI Python dictionaries\n",
    "!pip install openai==0.28"
   ]
  },
  {
   "cell_type": "code",
   "execution_count": 2,
   "id": "69a43dbe-7190-4217-9aa2-0674ffc5c16b",
   "metadata": {},
   "outputs": [
    {
     "data": {
      "text/html": [
       "<div>\n",
       "<style scoped>\n",
       "    .dataframe tbody tr th:only-of-type {\n",
       "        vertical-align: middle;\n",
       "    }\n",
       "\n",
       "    .dataframe tbody tr th {\n",
       "        vertical-align: top;\n",
       "    }\n",
       "\n",
       "    .dataframe thead th {\n",
       "        text-align: right;\n",
       "    }\n",
       "</style>\n",
       "<table border=\"1\" class=\"dataframe\">\n",
       "  <thead>\n",
       "    <tr style=\"text-align: right;\">\n",
       "      <th></th>\n",
       "      <th>url</th>\n",
       "      <th>address</th>\n",
       "      <th>name</th>\n",
       "      <th>online_order</th>\n",
       "      <th>book_table</th>\n",
       "      <th>rate</th>\n",
       "      <th>votes</th>\n",
       "      <th>phone</th>\n",
       "      <th>location</th>\n",
       "      <th>rest_type</th>\n",
       "      <th>dish_liked</th>\n",
       "      <th>cuisines</th>\n",
       "      <th>approx_cost(for two people)</th>\n",
       "      <th>reviews_list</th>\n",
       "      <th>menu_item</th>\n",
       "      <th>listed_in(type)</th>\n",
       "      <th>listed_in(city)</th>\n",
       "    </tr>\n",
       "  </thead>\n",
       "  <tbody>\n",
       "    <tr>\n",
       "      <th>0</th>\n",
       "      <td>https://www.zomato.com/bangalore/jalsa-banasha...</td>\n",
       "      <td>942, 21st Main Road, 2nd Stage, Banashankari, ...</td>\n",
       "      <td>Jalsa</td>\n",
       "      <td>Yes</td>\n",
       "      <td>Yes</td>\n",
       "      <td>4.1/5</td>\n",
       "      <td>775</td>\n",
       "      <td>080 42297555\\r\\n+91 9743772233</td>\n",
       "      <td>Banashankari</td>\n",
       "      <td>Casual Dining</td>\n",
       "      <td>Pasta, Lunch Buffet, Masala Papad, Paneer Laja...</td>\n",
       "      <td>North Indian, Mughlai, Chinese</td>\n",
       "      <td>800</td>\n",
       "      <td>[('Rated 4.0', 'RATED\\n  A beautiful place to ...</td>\n",
       "      <td>[]</td>\n",
       "      <td>Buffet</td>\n",
       "      <td>Banashankari</td>\n",
       "    </tr>\n",
       "    <tr>\n",
       "      <th>1</th>\n",
       "      <td>https://www.zomato.com/bangalore/spice-elephan...</td>\n",
       "      <td>2nd Floor, 80 Feet Road, Near Big Bazaar, 6th ...</td>\n",
       "      <td>Spice Elephant</td>\n",
       "      <td>Yes</td>\n",
       "      <td>No</td>\n",
       "      <td>4.1/5</td>\n",
       "      <td>787</td>\n",
       "      <td>080 41714161</td>\n",
       "      <td>Banashankari</td>\n",
       "      <td>Casual Dining</td>\n",
       "      <td>Momos, Lunch Buffet, Chocolate Nirvana, Thai G...</td>\n",
       "      <td>Chinese, North Indian, Thai</td>\n",
       "      <td>800</td>\n",
       "      <td>[('Rated 4.0', 'RATED\\n  Had been here for din...</td>\n",
       "      <td>[]</td>\n",
       "      <td>Buffet</td>\n",
       "      <td>Banashankari</td>\n",
       "    </tr>\n",
       "    <tr>\n",
       "      <th>2</th>\n",
       "      <td>https://www.zomato.com/SanchurroBangalore?cont...</td>\n",
       "      <td>1112, Next to KIMS Medical College, 17th Cross...</td>\n",
       "      <td>San Churro Cafe</td>\n",
       "      <td>Yes</td>\n",
       "      <td>No</td>\n",
       "      <td>3.8/5</td>\n",
       "      <td>918</td>\n",
       "      <td>+91 9663487993</td>\n",
       "      <td>Banashankari</td>\n",
       "      <td>Cafe, Casual Dining</td>\n",
       "      <td>Churros, Cannelloni, Minestrone Soup, Hot Choc...</td>\n",
       "      <td>Cafe, Mexican, Italian</td>\n",
       "      <td>800</td>\n",
       "      <td>[('Rated 3.0', \"RATED\\n  Ambience is not that ...</td>\n",
       "      <td>[]</td>\n",
       "      <td>Buffet</td>\n",
       "      <td>Banashankari</td>\n",
       "    </tr>\n",
       "    <tr>\n",
       "      <th>3</th>\n",
       "      <td>https://www.zomato.com/bangalore/addhuri-udupi...</td>\n",
       "      <td>1st Floor, Annakuteera, 3rd Stage, Banashankar...</td>\n",
       "      <td>Addhuri Udupi Bhojana</td>\n",
       "      <td>No</td>\n",
       "      <td>No</td>\n",
       "      <td>3.7/5</td>\n",
       "      <td>88</td>\n",
       "      <td>+91 9620009302</td>\n",
       "      <td>Banashankari</td>\n",
       "      <td>Quick Bites</td>\n",
       "      <td>Masala Dosa</td>\n",
       "      <td>South Indian, North Indian</td>\n",
       "      <td>300</td>\n",
       "      <td>[('Rated 4.0', \"RATED\\n  Great food and proper...</td>\n",
       "      <td>[]</td>\n",
       "      <td>Buffet</td>\n",
       "      <td>Banashankari</td>\n",
       "    </tr>\n",
       "    <tr>\n",
       "      <th>4</th>\n",
       "      <td>https://www.zomato.com/bangalore/grand-village...</td>\n",
       "      <td>10, 3rd Floor, Lakshmi Associates, Gandhi Baza...</td>\n",
       "      <td>Grand Village</td>\n",
       "      <td>No</td>\n",
       "      <td>No</td>\n",
       "      <td>3.8/5</td>\n",
       "      <td>166</td>\n",
       "      <td>+91 8026612447\\r\\n+91 9901210005</td>\n",
       "      <td>Basavanagudi</td>\n",
       "      <td>Casual Dining</td>\n",
       "      <td>Panipuri, Gol Gappe</td>\n",
       "      <td>North Indian, Rajasthani</td>\n",
       "      <td>600</td>\n",
       "      <td>[('Rated 4.0', 'RATED\\n  Very good restaurant ...</td>\n",
       "      <td>[]</td>\n",
       "      <td>Buffet</td>\n",
       "      <td>Banashankari</td>\n",
       "    </tr>\n",
       "  </tbody>\n",
       "</table>\n",
       "</div>"
      ],
      "text/plain": [
       "                                                 url  \\\n",
       "0  https://www.zomato.com/bangalore/jalsa-banasha...   \n",
       "1  https://www.zomato.com/bangalore/spice-elephan...   \n",
       "2  https://www.zomato.com/SanchurroBangalore?cont...   \n",
       "3  https://www.zomato.com/bangalore/addhuri-udupi...   \n",
       "4  https://www.zomato.com/bangalore/grand-village...   \n",
       "\n",
       "                                             address                   name  \\\n",
       "0  942, 21st Main Road, 2nd Stage, Banashankari, ...                  Jalsa   \n",
       "1  2nd Floor, 80 Feet Road, Near Big Bazaar, 6th ...         Spice Elephant   \n",
       "2  1112, Next to KIMS Medical College, 17th Cross...        San Churro Cafe   \n",
       "3  1st Floor, Annakuteera, 3rd Stage, Banashankar...  Addhuri Udupi Bhojana   \n",
       "4  10, 3rd Floor, Lakshmi Associates, Gandhi Baza...          Grand Village   \n",
       "\n",
       "  online_order book_table   rate  votes                             phone  \\\n",
       "0          Yes        Yes  4.1/5    775    080 42297555\\r\\n+91 9743772233   \n",
       "1          Yes         No  4.1/5    787                      080 41714161   \n",
       "2          Yes         No  3.8/5    918                    +91 9663487993   \n",
       "3           No         No  3.7/5     88                    +91 9620009302   \n",
       "4           No         No  3.8/5    166  +91 8026612447\\r\\n+91 9901210005   \n",
       "\n",
       "       location            rest_type  \\\n",
       "0  Banashankari        Casual Dining   \n",
       "1  Banashankari        Casual Dining   \n",
       "2  Banashankari  Cafe, Casual Dining   \n",
       "3  Banashankari          Quick Bites   \n",
       "4  Basavanagudi        Casual Dining   \n",
       "\n",
       "                                          dish_liked  \\\n",
       "0  Pasta, Lunch Buffet, Masala Papad, Paneer Laja...   \n",
       "1  Momos, Lunch Buffet, Chocolate Nirvana, Thai G...   \n",
       "2  Churros, Cannelloni, Minestrone Soup, Hot Choc...   \n",
       "3                                        Masala Dosa   \n",
       "4                                Panipuri, Gol Gappe   \n",
       "\n",
       "                         cuisines approx_cost(for two people)  \\\n",
       "0  North Indian, Mughlai, Chinese                         800   \n",
       "1     Chinese, North Indian, Thai                         800   \n",
       "2          Cafe, Mexican, Italian                         800   \n",
       "3      South Indian, North Indian                         300   \n",
       "4        North Indian, Rajasthani                         600   \n",
       "\n",
       "                                        reviews_list menu_item  \\\n",
       "0  [('Rated 4.0', 'RATED\\n  A beautiful place to ...        []   \n",
       "1  [('Rated 4.0', 'RATED\\n  Had been here for din...        []   \n",
       "2  [('Rated 3.0', \"RATED\\n  Ambience is not that ...        []   \n",
       "3  [('Rated 4.0', \"RATED\\n  Great food and proper...        []   \n",
       "4  [('Rated 4.0', 'RATED\\n  Very good restaurant ...        []   \n",
       "\n",
       "  listed_in(type) listed_in(city)  \n",
       "0          Buffet    Banashankari  \n",
       "1          Buffet    Banashankari  \n",
       "2          Buffet    Banashankari  \n",
       "3          Buffet    Banashankari  \n",
       "4          Buffet    Banashankari  "
      ]
     },
     "execution_count": 2,
     "metadata": {},
     "output_type": "execute_result"
    }
   ],
   "source": [
    "import pandas as pd\n",
    "df = pd.read_csv(r\"C:\\Users\\Neha\\OneDrive\\Desktop\\Restauant Recommnder AI\\zomato.csv\")\n",
    "df.head()"
   ]
  },
  {
   "cell_type": "markdown",
   "id": "6d24c263-2a27-4b9c-adb5-6ea10c034580",
   "metadata": {},
   "source": [
    "Approach:\n",
    "Conversation and Information Gathering: The chatbot will utilize language models to understand and generate natural responses. Through a conversational flow, it will ask relevant questions to gather information about the user's requirements.\n",
    "Information Extraction: Once the essential information is collected, rule-based functions come into play, extracting top 3 restaurants that best matches the user's needs.\n",
    "Personalized Recommendation: Leveraging this extracted information, the chatbot engages in further dialogue with the user, efficiently addressing their queries and aiding them in finding the perfect laptop solution.Restaurant"
   ]
  },
  {
   "cell_type": "markdown",
   "id": "8b69b20f-326b-49c5-8731-bcfb79dd70bf",
   "metadata": {},
   "source": [
    "Part 2: System Design"
   ]
  },
  {
   "cell_type": "markdown",
   "id": "b46179f3-2b96-4546-9593-11d4b2ad9d47",
   "metadata": {},
   "source": [
    "Major functions behind the Chatbot\n",
    "initialize_conversation(): This initializes the variable conversation with the system message.\n",
    "get_chat_model_completions(): This takes the ongoing conversation as the input and returns the response by the assistant\n",
    "moderation_check(): This checks if the user's or the assistant's message is inappropriate. If any of these is inappropriate, it ends the conversation.\n",
    "intent_confirmation_layer(): This function takes the assistant's response and evaluates if the chatbot has captured the user's profile clearly. Specifically, this checks if the following properties for the user has been captured or not GPU intensity, Display quality, Portability, Multitasking, Processing speed, Budget\n",
    "dictionary_present(): This function checks if the final understanding of user's profile is returned by the chatbot as a python dictionary or not. If there is a dictionary, it extracts the information as a Python dictionary.\n",
    "compare_laptops_with_user(): This function compares the user's profile with the different laptops and come back with the top 3 recommendations.\n",
    "initialize_conv_reco(): Initializes the recommendations conversation"
   ]
  },
  {
   "cell_type": "markdown",
   "id": "2a7e1698-d46c-4aa9-aef7-3243179f8bfb",
   "metadata": {},
   "source": [
    "Part 3: Implementation"
   ]
  },
  {
   "cell_type": "markdown",
   "id": "a1fa8647-4630-4343-8d60-6760c33bbca5",
   "metadata": {},
   "source": [
    "### 3.1 - Import the libraries\n",
    "\n",
    "Let's start by importing the libraries that we'll require for this project. Following are the ones:\n",
    "- openai\n",
    "- pandas\n",
    "- os, json, ast\n",
    "\n",
    "The api key is in a text file api_key.txt."
   ]
  },
  {
   "cell_type": "code",
   "execution_count": 8,
   "id": "1c540f98-c82a-4561-92ca-39c003ba002d",
   "metadata": {},
   "outputs": [],
   "source": [
    "import os,json,ast\n",
    "import openai\n",
    "import pandas as pd"
   ]
  },
  {
   "cell_type": "code",
   "execution_count": 9,
   "id": "a171541c-6d1b-4d61-a7d7-f86cfbd0c8d5",
   "metadata": {},
   "outputs": [],
   "source": [
    "# read the API key\n",
    "openai.api_key = open(r\"C:\\Users\\Neha\\OneDrive\\Desktop\\Shop Assist AI\\OPENAI_API_Key.txt\").read().strip()"
   ]
  },
  {
   "cell_type": "markdown",
   "id": "766d9303-5ea5-4b9e-842a-fa12bcd5287e",
   "metadata": {},
   "source": [
    "3.2 - Implementing Intent Clarity and Intent Confirmation Layers\n",
    "\n",
    "Let's start with the first part of the implementation - building the intent clarity and intent confirmation layers. As mentioned earlier, this layer helps in identifying the user requirements and passing it on to the product matching layer.\n",
    "\n",
    "initialize_conversation(): This initializes the variable conversation with the system message. Using prompt engineering and chain of thought reasoning, the function will enable the chatbot to keep asking questions until the user requirements have been captured in a dictionary. It also includes Few Shot Prompting(sample conversation between the user and assistant) to align the model about user and assistant responses at each step.\n"
   ]
  },
  {
   "cell_type": "code",
   "execution_count": 11,
   "id": "529214b4-ad3f-4585-a341-585ae3dfa0a7",
   "metadata": {},
   "outputs": [],
   "source": [
    "def initialize_conversation():\n",
    "    '''\n",
    "    Returns a list [{\"role\": \"system\", \"content\": system_message}]\n",
    "    '''\n",
    "    system_message = \"\"\"\n",
    "    You are a chatbot designed to gather user requirements for a restaurant recommendation project. \n",
    "    Use chain-of-thought reasoning to ask step-by-step questions and ensure that all user requirements \n",
    "    are captured in the following dictionary format:\n",
    "    \n",
    "    {\n",
    "        'Location': <string>, \n",
    "        'cuisines': <string>, \n",
    "        'dish_liked': <string>, \n",
    "        'approx_cost': <numerical>\n",
    "    }\n",
    "    \n",
    "    #### Instructions:\n",
    "    1. All keys except 'approx_cost' should be string values provided by the user.\n",
    "    2. 'approx_cost' must be a numerical value ≥ 200 INR. If the user provides a value below 200, explain that no restaurants are available in that range.\n",
    "    3. Do not randomly assign values. Infer them directly from the user's responses.\n",
    "    4. Validate inputs for all keys and ask clarifying questions if needed.\n",
    "\n",
    "    #### Chain of Thought Process:\n",
    "    - **Step 1**: Start by welcoming the user and ask questions to gather information for one or more keys (e.g., location, cuisine). \n",
    "    - **Step 2**: Identify missing keys and ask follow-up questions to fill them.\n",
    "    - **Step 3**: Confirm that all key-value pairs are complete and valid. If unsure about any value, ask for clarification.\n",
    "    - **Step 4**: Output the final dictionary containing all user requirements.\n",
    "\n",
    "    #### Example Conversation:\n",
    "    User: \"I want to eat Chinese food.\"\n",
    "    Assistant: \"Great! Let’s start. Could you tell me your location?\"\n",
    "    User: \"Delhi\"\n",
    "    Assistant: \"Thanks! What’s your favorite dish in Chinese cuisine?\"\n",
    "    User: \"Noodles\"\n",
    "    Assistant: \"Noted. Lastly, what’s your budget for this meal?\"\n",
    "    User: \"1000\"\n",
    "    Assistant: \"Here’s what I’ve gathered: {'Location': 'Delhi', 'cuisines': 'Chinese', 'dish_liked': 'Noodles', 'approx_cost': 1000}. Is this correct?\"\n",
    "    \"\"\"\n",
    "\n",
    "    # Initialize conversation with system message\n",
    "    return [{\"role\": \"system\", \"content\": system_message}]\n"
   ]
  },
  {
   "cell_type": "markdown",
   "id": "a59538b9-4568-4d72-87f2-fc12f530e53d",
   "metadata": {},
   "source": [
    "Let's see what does initialize_conversation() does. We have added a prefix debug_ to each of the variables so that we can play around with the inputs and outputs and it doesn't disturb the main function."
   ]
  },
  {
   "cell_type": "code",
   "execution_count": 13,
   "id": "9f8c4c9f-0003-45ab-afc2-049211b27073",
   "metadata": {},
   "outputs": [
    {
     "name": "stdout",
     "output_type": "stream",
     "text": [
      "[{'role': 'system', 'content': '\\n    You are a chatbot designed to gather user requirements for a restaurant recommendation project. \\n    Use chain-of-thought reasoning to ask step-by-step questions and ensure that all user requirements \\n    are captured in the following dictionary format:\\n    \\n    {\\n        \\'Location\\': <string>, \\n        \\'cuisines\\': <string>, \\n        \\'dish_liked\\': <string>, \\n        \\'approx_cost\\': <numerical>\\n    }\\n    \\n    #### Instructions:\\n    1. All keys except \\'approx_cost\\' should be string values provided by the user.\\n    2. \\'approx_cost\\' must be a numerical value ≥ 200 INR. If the user provides a value below 200, explain that no restaurants are available in that range.\\n    3. Do not randomly assign values. Infer them directly from the user\\'s responses.\\n    4. Validate inputs for all keys and ask clarifying questions if needed.\\n\\n    #### Chain of Thought Process:\\n    - **Step 1**: Start by welcoming the user and ask questions to gather information for one or more keys (e.g., location, cuisine). \\n    - **Step 2**: Identify missing keys and ask follow-up questions to fill them.\\n    - **Step 3**: Confirm that all key-value pairs are complete and valid. If unsure about any value, ask for clarification.\\n    - **Step 4**: Output the final dictionary containing all user requirements.\\n\\n    #### Example Conversation:\\n    User: \"I want to eat Chinese food.\"\\n    Assistant: \"Great! Let’s start. Could you tell me your location?\"\\n    User: \"Delhi\"\\n    Assistant: \"Thanks! What’s your favorite dish in Chinese cuisine?\"\\n    User: \"Noodles\"\\n    Assistant: \"Noted. Lastly, what’s your budget for this meal?\"\\n    User: \"1000\"\\n    Assistant: \"Here’s what I’ve gathered: {\\'Location\\': \\'Delhi\\', \\'cuisines\\': \\'Chinese\\', \\'dish_liked\\': \\'Noodles\\', \\'approx_cost\\': 1000}. Is this correct?\"\\n    '}]\n"
     ]
    }
   ],
   "source": [
    "debug_conversation = initialize_conversation()\n",
    "print(debug_conversation)"
   ]
  },
  {
   "cell_type": "markdown",
   "id": "9307c32e-2174-4228-a6ac-c9541b9bb717",
   "metadata": {},
   "source": [
    "get_chat_model_completions(): This takes the ongoing conversation as the input and returns the response by the assistant"
   ]
  },
  {
   "cell_type": "code",
   "execution_count": 15,
   "id": "0f0dca6c-42d1-492b-b12d-c0f7f4debf4a",
   "metadata": {},
   "outputs": [],
   "source": [
    "def get_chat_model_completions(messages):\n",
    "    response = openai.ChatCompletion.create(\n",
    "        model=\"gpt-3.5-turbo\",\n",
    "        messages=messages,\n",
    "        temperature=0,  # This is the degree of randomness of the model's output\n",
    "        max_tokens=3000\n",
    "    )\n",
    "    return response.choices[0].message.content  # Access the `content` attribute"
   ]
  },
  {
   "cell_type": "code",
   "execution_count": 16,
   "id": "e46635ac-d61b-406d-a5fd-5b726beee3c3",
   "metadata": {},
   "outputs": [
    {
     "name": "stdout",
     "output_type": "stream",
     "text": [
      "\n",
      "Hello! I'm here to help you find the perfect restaurant for you. Let's get started! \n",
      "\n",
      "Could you please tell me your preferred location for dining out?\n"
     ]
    }
   ],
   "source": [
    "debug_introduction = get_chat_model_completions(debug_conversation)\n",
    "print(debug_introduction)"
   ]
  },
  {
   "cell_type": "code",
   "execution_count": 17,
   "id": "048cff6f-68b6-4373-b90d-f394c88d2244",
   "metadata": {},
   "outputs": [],
   "source": [
    "debug_user_input = \"Hi, I am Neha. I want to eat pasta.\""
   ]
  },
  {
   "cell_type": "code",
   "execution_count": 18,
   "id": "379e6f4d-cef8-4148-9d0b-ca7df2991735",
   "metadata": {},
   "outputs": [
    {
     "name": "stdout",
     "output_type": "stream",
     "text": [
      "Great, Neha! Let's get started. \n",
      "Could you please tell me your location?\n"
     ]
    }
   ],
   "source": [
    "debug_conversation.append({\"role\": \"user\", \"content\": debug_user_input})\n",
    "debug_response_assistant = get_chat_model_completions(debug_conversation)\n",
    "print(debug_response_assistant)"
   ]
  },
  {
   "cell_type": "markdown",
   "id": "0634d5bb-3657-41cb-80d7-70c874ace1bd",
   "metadata": {},
   "source": [
    "moderation_check(): This checks if the user's or the assistant's message is inappropriate. If any of these is inappropriate, you can add a break statement to end the conversation."
   ]
  },
  {
   "cell_type": "code",
   "execution_count": 20,
   "id": "4d1790d7-14de-4c73-9566-314677430bdd",
   "metadata": {},
   "outputs": [],
   "source": [
    "def moderation_check(user_input):\n",
    "    response = openai.Moderation.create(input=user_input)\n",
    "    moderation_output = response[\"results\"][0]\n",
    "    if moderation_output[\"flagged\"] == True:\n",
    "        return \"Flagged\"\n",
    "    else:\n",
    "        return \"Not Flagged\""
   ]
  },
  {
   "cell_type": "code",
   "execution_count": 21,
   "id": "cf5aad3b-e883-4af5-bf90-9a70774bf5e0",
   "metadata": {},
   "outputs": [
    {
     "name": "stdout",
     "output_type": "stream",
     "text": [
      "Not Flagged\n"
     ]
    }
   ],
   "source": [
    "debug_moderation = moderation_check(debug_user_input)\n",
    "print(debug_moderation)"
   ]
  },
  {
   "cell_type": "code",
   "execution_count": 22,
   "id": "f8f9ffc7-f591-4ae9-8640-0ba4609927d0",
   "metadata": {},
   "outputs": [
    {
     "name": "stdout",
     "output_type": "stream",
     "text": [
      "Flagged\n",
      "Not Flagged\n"
     ]
    }
   ],
   "source": [
    "print(moderation_check(\"I want to kill Ravan.\"))\n",
    "print(moderation_check(\"I can do anything for a hot chocolate right now.\"))"
   ]
  },
  {
   "cell_type": "code",
   "execution_count": 23,
   "id": "683a06f0-dd60-4d59-b9e0-4d16c753d21e",
   "metadata": {},
   "outputs": [
    {
     "data": {
      "text/plain": [
       "'Not Flagged'"
      ]
     },
     "execution_count": 23,
     "metadata": {},
     "output_type": "execute_result"
    }
   ],
   "source": [
    "moderation_check(debug_response_assistant)"
   ]
  },
  {
   "cell_type": "markdown",
   "id": "dd069201-b886-4b79-9d37-d2df14e4cd62",
   "metadata": {},
   "source": [
    "As mentioned earlier, you need to understand the user's profile, which essentially means that all the features: GPU intensity, Display quality, Portability, Multitasking, Processing speed, Budget are captured or not. Let's look at the function that helps us verify that.\n",
    "\n",
    "intent_confirmation_layer(): This function takes the assistant's response and evaluates if the chatbot has captured the user's profile clearly. Specifically, this checks if the following properties for the user has been captured or not\n",
    "GPU intensity\n",
    "Display quality\n",
    "Portability\n",
    "Multitasking\n",
    "Processing speed\n",
    "Budget"
   ]
  },
  {
   "cell_type": "code",
   "execution_count": 25,
   "id": "d6aed9b4-fece-4dab-8887-cb1e72bc16f3",
   "metadata": {},
   "outputs": [],
   "source": [
    "def intent_confirmation_layer(response_assistant):\n",
    "    \"\"\"\n",
    "    Evaluates if the provided input contains all the required keys and whether their values are correctly filled.\n",
    "    \"\"\"\n",
    "    prompt = f\"\"\"\n",
    "    You are a senior evaluator with an eye for detail.\n",
    "    Evaluate if the provided input contains all the required keys and whether their values are correctly filled:\n",
    "    \n",
    "    Required keys and conditions:\n",
    "    - 'Location': should be a valid city name (e.g., 'Delhi', 'Mumbai').\n",
    "    - 'cuisines': should describe a type of cuisine (e.g., 'Italian', 'Chinese').\n",
    "    - 'dish_liked': should describe a dish name (e.g., 'Pasta', 'Biryani').\n",
    "    - 'approx_cost': should be a numerical value greater than or equal to 200.\n",
    "    \n",
    "    Input: {response_assistant}\n",
    "    \n",
    "    Output the result as 'Yes' if all keys are present and have correctly filled values; otherwise, output 'No'.\n",
    "    Examples:\n",
    "    - Input: {{'Location': 'Delhi', 'cuisines': 'Chinese', 'dish_liked': 'Noodles', 'approx_cost': 1000}}\n",
    "      Output: Yes\n",
    "    - Input: {{'Location': '', 'cuisines': 'Chinese', 'dish_liked': '', 'approx_cost': 100}}\n",
    "      Output: No\n",
    "    Only output a one-word string: Yes or No.\n",
    "    \"\"\"\n",
    "\n",
    "    confirmation = openai.ChatCompletion.create(\n",
    "        model=\"gpt-3.5-turbo\",\n",
    "        messages=[\n",
    "            {\"role\": \"system\", \"content\": \"You are a senior evaluator with an eye for detail.\"},\n",
    "            {\"role\": \"user\", \"content\": prompt}\n",
    "        ],\n",
    "        temperature=0\n",
    "    )\n",
    "\n",
    "    return confirmation[\"choices\"][0][\"message\"][\"content\"].strip()\n"
   ]
  },
  {
   "cell_type": "code",
   "execution_count": 26,
   "id": "12d6e38e-670b-4b58-a041-0da852fd7c86",
   "metadata": {},
   "outputs": [
    {
     "name": "stdout",
     "output_type": "stream",
     "text": [
      "Input: Great, Neha! Let's get started. Could you please tell me your location?\n",
      "\n",
      "Output: No\n"
     ]
    }
   ],
   "source": [
    "debug_confirmation = intent_confirmation_layer(debug_response_assistant)\n",
    "print(debug_confirmation)"
   ]
  },
  {
   "cell_type": "code",
   "execution_count": 27,
   "id": "828682f2-1a56-4dd6-ac0b-83bfe00fd2fd",
   "metadata": {},
   "outputs": [
    {
     "name": "stdout",
     "output_type": "stream",
     "text": [
      "Input: {'Location': 'Delhi', 'cuisines': 'Italian', 'dish_liked': 'Pasta', 'approx_cost': '1000'}\n",
      "Output: No\n"
     ]
    }
   ],
   "source": [
    "response_assistant_1 = {\n",
    "    \"Location\": \"Delhi\",\n",
    "    \"cuisines\": \"Italian\",\n",
    "    \"dish_liked\": 'Pasta',\n",
    "    \"approx_cost\": \"1000\"\n",
    "}\n",
    "\n",
    "print(\"Input:\", response_assistant_1)\n",
    "print(\"Output:\", intent_confirmation_layer(response_assistant_1))\n"
   ]
  },
  {
   "cell_type": "markdown",
   "id": "d2f8aedf-bc83-48ab-98aa-65e395412e3a",
   "metadata": {},
   "source": [
    "Let's now look at the working of dictionary_present().\n",
    "\n",
    "dictionary_present(): This function checks if the final understanding of user's profile is returned by the chatbot is a Python dictionary or not. This is important as it'll be used later on for finding the right laptops using dictionary matching."
   ]
  },
  {
   "cell_type": "code",
   "execution_count": 29,
   "id": "4bb5c299-a468-4023-9d9c-3285209def06",
   "metadata": {},
   "outputs": [],
   "source": [
    "def dictionary_present(response):\n",
    "    delimiter = \"####\"\n",
    "    example_user_req = {\n",
    "        'Location': 'Delhi', \n",
    "        'cuisines': 'Chinese', \n",
    "        'dish_liked': 'Pasta', \n",
    "        'approx_cost': 800\n",
    "    }\n",
    "    \n",
    "    prompt = f\"\"\"\n",
    "    You are a Python expert. You are provided with an input.\n",
    "    Your task is to check if there is a Python dictionary present in the string.\n",
    "    The dictionary should have the following format: {example_user_req}.\n",
    "    Extract and return only the Python dictionary from the input.\n",
    "    The output must match the format: {example_user_req}.\n",
    "    Ensure the output contains the exact keys and values present in the input.\n",
    "\n",
    "    Here are some sample input-output pairs for better understanding:\n",
    "    {delimiter}\n",
    "    Input: Location: Mumbai, cuisines: Italian, dish_liked: Pizza, approx_cost: 1200\n",
    "    Output: {{'Location': 'Mumbai', 'cuisines': 'Italian', 'dish_liked': 'Pizza', 'approx_cost': 1200}}\n",
    "\n",
    "    Input: {{'Location': 'Bangalore', 'cuisines': 'South Indian', 'dish_liked': 'Dosa', 'approx_cost': 500}}\n",
    "    Output: {{'Location': 'Bangalore', 'cuisines': 'South Indian', 'dish_liked': 'Dosa', 'approx_cost': 500}}\n",
    "\n",
    "    Input: Here is your user profile: 'Location': 'Delhi', 'cuisines': 'Chinese', 'dish_liked': 'Noodles', 'approx_cost': 1000\n",
    "    Output: {{'Location': 'Delhi', 'cuisines': 'Chinese', 'dish_liked': 'Noodles', 'approx_cost': 1000}}\n",
    "    {delimiter}\n",
    "\n",
    "    Here is the input: {response}\n",
    "    \"\"\"\n",
    "\n",
    "    # Use ChatCompletion for GPT-3.5-Turbo\n",
    "    response = openai.ChatCompletion.create(\n",
    "        model=\"gpt-3.5-turbo\",\n",
    "        messages=[\n",
    "            {\"role\": \"system\", \"content\": \"You are a Python expert.\"},\n",
    "            {\"role\": \"user\", \"content\": prompt}\n",
    "        ]\n",
    "    )\n",
    "    return response[\"choices\"][0][\"message\"][\"content\"].strip()\n"
   ]
  },
  {
   "cell_type": "code",
   "execution_count": 30,
   "id": "5867fd20-31d0-4e24-9fae-7786bb41fe17",
   "metadata": {},
   "outputs": [
    {
     "name": "stdout",
     "output_type": "stream",
     "text": [
      "Extracted Dictionary: Here is the Python code to extract and return the Python dictionary from the given input:\n",
      "\n",
      "```python\n",
      "import ast\n",
      "\n",
      "input_str = \"{'Location': 'Delhi', 'cuisines': 'Chinese', 'dish_liked': 'pasta', 'approx_cost': '800'}\"\n",
      "\n",
      "try:\n",
      "    output_dict = ast.literal_eval(input_str)\n",
      "    if isinstance(output_dict, dict) and all(key in output_dict for key in ['Location', 'cuisines', 'dish_liked', 'approx_cost']):\n",
      "        print(output_dict)\n",
      "    else:\n",
      "        print(\"No valid Python dictionary found in the input.\")\n",
      "except ValueError:\n",
      "    print(\"No valid Python dictionary found in the input.\")\n",
      "```\n",
      "\n",
      "When you run this code with the provided input string, it will extract and return the Python dictionary:\n",
      "\n",
      "Output:\n",
      "```python\n",
      "{'Location': 'Delhi', 'cuisines': 'Chinese', 'dish_liked': 'pasta', 'approx_cost': '800'}\n",
      "```\n"
     ]
    }
   ],
   "source": [
    "debug_response_assistant_n = {\"Location\": \"Delhi\",\"cuisines\": \"Chinese\",\"dish_liked\": \"pasta\",\"approx_cost\": \"800\"}\n",
    "response_dict_n = dictionary_present(debug_response_assistant_n)\n",
    "print(\"Extracted Dictionary:\", response_dict_n)"
   ]
  },
  {
   "cell_type": "code",
   "execution_count": null,
   "id": "649e8025-eed2-4675-a163-b507e31fff8e",
   "metadata": {},
   "outputs": [],
   "source": []
  },
  {
   "cell_type": "code",
   "execution_count": 31,
   "id": "836a421f-2af5-48bb-96bf-fdf3c444d2a7",
   "metadata": {},
   "outputs": [
    {
     "name": "stdout",
     "output_type": "stream",
     "text": [
      "```python\n",
      "def extract_dict_from_input(input_str):\n",
      "    start_idx = input_str.find('{')\n",
      "    end_idx = input_str.rfind('}') + 1\n",
      "    dictionary_str = input_str[start_idx:end_idx]\n",
      "    \n",
      "    try:\n",
      "        extracted_dict = eval(dictionary_str)\n",
      "        return extracted_dict\n",
      "    except SyntaxError:\n",
      "        return None\n",
      "\n",
      "input_str = \"{'Location': 'Delhi', 'cuisines': 'Italian', 'dish_liked': 'Pasta', 'approx_cost': '1000'}\"\n",
      "output_dict = extract_dict_from_input(input_str)\n",
      "print(output_dict)\n",
      "``` \n",
      "\n",
      "Output:\n",
      "{'Location': 'Delhi', 'cuisines': 'Italian', 'dish_liked': 'Pasta', 'approx_cost': '1000'}\n",
      "```\n"
     ]
    }
   ],
   "source": [
    "response_dict_n = dictionary_present(response_assistant_1)\n",
    "print(response_dict_n)"
   ]
  },
  {
   "cell_type": "code",
   "execution_count": 32,
   "id": "1ae4aab2-4375-4bf0-af81-5751285d2ace",
   "metadata": {},
   "outputs": [],
   "source": [
    "debug_conversation = initialize_conversation()\n",
    "debug_introduction = get_chat_model_completions(debug_conversation)\n",
    "debug_user_input = \"Hi, I am Neha. I want pasta.\"\n",
    "debug_moderation = moderation_check(debug_user_input)\n",
    "debug_conversation.append({\"role\": \"user\", \"content\": debug_user_input})\n",
    "debug_response_assistant = get_chat_model_completions(debug_conversation)\n",
    "debug_moderation = moderation_check(debug_response_assistant)\n",
    "debug_conversation.append({\"role\": \"assistant\", \"content\": debug_response_assistant})\n",
    "debug_confirmation = intent_confirmation_layer(debug_response_assistant)\n",
    "response_dict_n = dictionary_present(debug_response_assistant_n)"
   ]
  },
  {
   "cell_type": "markdown",
   "id": "9f6b8b26-9a75-48fd-bf12-f596aa5619ff",
   "metadata": {},
   "source": [
    "3.3 Implementing the Product Mapping and Information Extraction Layers\n",
    "In this section, we take in the output of the previous layers, i.e. the user requirements, which is in the format of a Python dictionary, and extract the top 3 Restaurant recommendations based on that. Here are the functions that we will use to help us implement the information extraction and product matching layers\n",
    "\n",
    "product_map_layer(): This function is responsible for extracting key features and criteria from the data."
   ]
  },
  {
   "cell_type": "code",
   "execution_count": 34,
   "id": "1136222a-fca5-472c-a664-750b638d2011",
   "metadata": {},
   "outputs": [],
   "source": [
    "def restaurant_map_layer(restaurant_description):\n",
    "    delimiter = \"#####\"\n",
    "    restaurant_parameters = {\n",
    "        \"cuisines\": \"(Type of cuisines offered, e.g., Italian, Chinese, Indian)\",\n",
    "        \"approx_cost\": \"(Average cost for two people in INR)\",\n",
    "        \"dish_liked\": \"(Popular dishes, e.g., Pizza, Biryani)\",\n",
    "        \"location\": \"(City or locality of the restaurant)\",\n",
    "        \"rating\": \"(Overall rating, e.g., 4.1/5)\",\n",
    "    }\n",
    "\n",
    "    cost_classification = {\n",
    "        \"low\": \"less than 500 INR\",\n",
    "        \"medium\": \"between 500 INR and 1500 INR\",\n",
    "        \"high\": \"greater than 1500 INR\"\n",
    "    }\n",
    "\n",
    "    prompt = f\"\"\"\n",
    "    You are a Restaurant Classifier whose job is to extract key features of a restaurant based on its description and classify them.\n",
    "\n",
    "    To analyze a restaurant, perform the following steps:\n",
    "    Step 1: Extract the restaurant's primary features from the description: {restaurant_description}.\n",
    "    Step 2: Store the extracted features in this structure: {restaurant_parameters}.\n",
    "    Step 3: Classify the 'approx_cost' into one of these categories: {cost_classification}.\n",
    "    Step 4: Return the final structured classification as a Python dictionary.\n",
    "\n",
    "    Example Input:\n",
    "    {delimiter}\n",
    "    Input: \"Jalsa is a highly rated restaurant located in Banashankari, Bangalore. Known for its North Indian and Mughlai cuisines, it offers a cozy dining experience. Popular dishes include Pasta and Lunch Buffet. The average cost for two people is around 800 INR, and the restaurant boasts a rating of 4.1/5. It is a great option for casual dining.\"\n",
    "    Output: {{\n",
    "        'cuisines': 'North Indian, Mughlai',\n",
    "        'approx_cost': 'medium',\n",
    "        'dish_liked': 'Pasta, Lunch Buffet',\n",
    "        'location': 'Banashankari, Bangalore',\n",
    "        'rating': '4.1/5'\n",
    "    }}\n",
    "    {delimiter}\n",
    "\n",
    "    Now analyze the following restaurant description and classify its features:\n",
    "    {restaurant_description}\n",
    "    \"\"\"\n",
    "\n",
    "    response = openai.ChatCompletion.create(\n",
    "        model=\"gpt-3.5-turbo\",\n",
    "        messages=[\n",
    "            {\"role\": \"system\", \"content\": \"You are a helpful assistant.\"},\n",
    "            {\"role\": \"user\", \"content\": prompt}\n",
    "        ],\n",
    "        temperature=0.3,\n",
    "        max_tokens=1000\n",
    "    )\n",
    "    return response[\"choices\"][0][\"message\"][\"content\"].strip()\n"
   ]
  },
  {
   "cell_type": "code",
   "execution_count": 35,
   "id": "7fd412c2-6efa-4a8f-a79e-2f411d75a25c",
   "metadata": {
    "scrolled": true
   },
   "outputs": [
    {
     "name": "stdout",
     "output_type": "stream",
     "text": [
      "Updated DataFrame saved to 'updated_restaurant.csv'\n"
     ]
    }
   ],
   "source": [
    "import pandas as pd\n",
    "\n",
    "# Load the restaurant data\n",
    "restaurant_df = pd.read_csv(r\"C:\\Users\\Neha\\OneDrive\\Desktop\\Restauant Recommnder AI\\zomato.csv\")\n",
    "\n",
    "# Define a function to map structured data into a dictionary\n",
    "def map_restaurant_features(row):\n",
    "    \"\"\"\n",
    "    Maps the structured data of a restaurant into a dictionary of features.\n",
    "    \"\"\"\n",
    "    return {\n",
    "        'cuisines': row['cuisines'] if pd.notna(row['cuisines']) else 'Unknown',\n",
    "        'approx_cost': row['approx_cost(for two people)'] if pd.notna(row['approx_cost(for two people)']) else 'Unknown',\n",
    "        'dish_liked': row['dish_liked'] if pd.notna(row['dish_liked']) else 'Unknown',\n",
    "        'location': row['location'] if pd.notna(row['location']) else 'Unknown',\n",
    "        'rating': row['rate'] if pd.notna(row['rate']) else 'Unknown'\n",
    "    }\n",
    "\n",
    "# Apply the function to each row to create the 'restaurant_feature' column\n",
    "restaurant_df['restaurant_feature'] = restaurant_df.apply(map_restaurant_features, axis=1)\n",
    "\n",
    "# Save the updated DataFrame to a new CSV file\n",
    "restaurant_df.to_csv(\"updated_restaurant.csv\", index=False, header=True)\n",
    "\n",
    "print(\"Updated DataFrame saved to 'updated_restaurant.csv'\")\n"
   ]
  },
  {
   "cell_type": "code",
   "execution_count": 36,
   "id": "a3c1e20c-4eee-4918-9006-959b35571822",
   "metadata": {},
   "outputs": [
    {
     "name": "stdout",
     "output_type": "stream",
     "text": [
      "Index(['url', 'address', 'name', 'online_order', 'book_table', 'rate', 'votes',\n",
      "       'phone', 'location', 'rest_type', 'dish_liked', 'cuisines',\n",
      "       'approx_cost_for_two_people', 'reviews_list', 'menu_item',\n",
      "       'listed_in(type)', 'listed_in(city)', 'restaurant_feature'],\n",
      "      dtype='object')\n"
     ]
    }
   ],
   "source": [
    "import pandas as pd\n",
    "\n",
    "# Load the restaurant data (updated_restaurant.csv) into a DataFrame\n",
    "restaurant_df = pd.read_csv(r\"C:\\Users\\Neha\\updated_restaurant.csv\")\n",
    "\n",
    "# Rename the column from 'approx_cost(for two people)' to 'approx_cost_for_two_people'\n",
    "restaurant_df.rename(columns={'approx_cost(for two people)': 'approx_cost_for_two_people'}, inplace=True)\n",
    "\n",
    "# Print the updated columns to verify\n",
    "print(restaurant_df.columns)\n"
   ]
  },
  {
   "cell_type": "code",
   "execution_count": 37,
   "id": "d2ac5b48-9c94-4eff-b217-60ef2e6acb08",
   "metadata": {},
   "outputs": [
    {
     "name": "stdout",
     "output_type": "stream",
     "text": [
      "String after wrapping with braces: { \n",
      " \t           Output: {{'Location': 'delhi', 'cuisines': 'chinese', 'dish_liked': 'pasta', 'approx_cost': '800'}}ad}\n",
      "Matches found: [\"{'Location': 'delhi', 'cuisines': 'chinese', 'dish_liked': 'pasta', 'approx_cost': '800'}\"]\n",
      "Extracted dictionary string: {'Location': 'delhi', 'cuisines': 'chinese', 'dish_liked': 'pasta', 'approx_cost': '800'}\n",
      "{'Location': '', 'cuisines': 'Chinese', 'dish_liked': 'Pasta', 'approx_cost': 800.0}\n"
     ]
    }
   ],
   "source": [
    "import ast\n",
    "import re\n",
    "\n",
    "def extract_dictionary_from_string(string):\n",
    "    \"\"\"\n",
    "    Extracts a dictionary with specific keys ('Location', 'cuisines', 'dish_liked', 'approx_cost') from a string.\n",
    "    \"\"\"\n",
    "    # If the string doesn't contain curly braces, wrap it in braces\n",
    "    if not string.startswith(\"{\"):\n",
    "        string = \"{\" + string + \"}\"\n",
    "    \n",
    "    print(f\"String after wrapping with braces: {string}\")  # Debugging statement\n",
    "    \n",
    "    # Define the regex pattern to match a dictionary structure\n",
    "    regex_pattern = r\"\\{[^{}]+\\}\"\n",
    "\n",
    "    # Find all the dictionary-like patterns in the string\n",
    "    dictionary_matches = re.findall(regex_pattern, string)\n",
    "    print(f\"Matches found: {dictionary_matches}\")  # Debugging statement\n",
    "\n",
    "    # If a match is found, process the first match\n",
    "    if dictionary_matches:\n",
    "        dictionary_string = dictionary_matches[0]\n",
    "        \n",
    "        # Clean the string by removing any extra spaces, newlines, tabs, etc.\n",
    "        dictionary_string = dictionary_string.strip()\n",
    "\n",
    "        print(f\"Extracted dictionary string: {dictionary_string}\")  # Debugging statement\n",
    "        \n",
    "        try:\n",
    "            # Convert the string to a dictionary using ast.literal_eval()\n",
    "            extracted_dict = ast.literal_eval(dictionary_string)\n",
    "\n",
    "            # Process the extracted dictionary to match the expected format\n",
    "            if 'approx_cost' in extracted_dict:\n",
    "                # Convert 'approx_cost' to a numeric value\n",
    "                extracted_dict['approx_cost'] = float(extracted_dict['approx_cost'])\n",
    "            \n",
    "            # Normalize the dictionary keys to match the required structure\n",
    "            final_dict = {\n",
    "                'Location': extracted_dict.get('location', '').capitalize(),\n",
    "                'cuisines': extracted_dict.get('cuisines', '').capitalize(),\n",
    "                'dish_liked': extracted_dict.get('dish_liked', '').capitalize(),\n",
    "                'approx_cost': extracted_dict.get('approx_cost', 0)  # Ensure it's numeric\n",
    "            }\n",
    "            \n",
    "            return final_dict\n",
    "        except Exception as e:\n",
    "            print(f\"Error while parsing dictionary: {e}\")\n",
    "            return None\n",
    "    return None\n",
    "\n",
    "\n",
    "# Example string\n",
    "string = \" \\n \\t           Output: {{'Location': 'delhi', 'cuisines': 'chinese', 'dish_liked': 'pasta', 'approx_cost': '800'}}ad\"\n",
    "\n",
    "# Extract the dictionary\n",
    "extracted_dict = extract_dictionary_from_string(string)\n",
    "print(extracted_dict)"
   ]
  },
  {
   "cell_type": "code",
   "execution_count": 38,
   "id": "86d58107-73ce-4829-9033-fa73431365f6",
   "metadata": {},
   "outputs": [],
   "source": [
    "string = \" \\n \\t           Output: {{'Location': 'delhi', 'cuisines': 'chinese', 'dish_liked': 'pasta', 'approx_cost': '800'}}ad\""
   ]
  },
  {
   "cell_type": "code",
   "execution_count": 39,
   "id": "1ceea018-bf8b-4b5d-903a-e9ecf4c53ac3",
   "metadata": {},
   "outputs": [
    {
     "name": "stdout",
     "output_type": "stream",
     "text": [
      "String after wrapping with braces: { \n",
      " \t           Output: {{'Location': 'delhi', 'cuisines': 'chinese', 'dish_liked': 'pasta', 'approx_cost': '800'}}ad}\n",
      "Matches found: [\"{'Location': 'delhi', 'cuisines': 'chinese', 'dish_liked': 'pasta', 'approx_cost': '800'}\"]\n",
      "Extracted dictionary string: {'Location': 'delhi', 'cuisines': 'chinese', 'dish_liked': 'pasta', 'approx_cost': '800'}\n",
      "{'Location': '', 'cuisines': 'Chinese', 'dish_liked': 'Pasta', 'approx_cost': 800.0}\n"
     ]
    }
   ],
   "source": [
    "example_2 = extract_dictionary_from_string(string)\n",
    "print(example_2)"
   ]
  },
  {
   "cell_type": "code",
   "execution_count": 40,
   "id": "28b885d2-fcc0-4529-85c6-ed2764605bd3",
   "metadata": {},
   "outputs": [
    {
     "name": "stdout",
     "output_type": "stream",
     "text": [
      "String after wrapping with braces: { \n",
      " \t           Output: {{'Location': 'delhi', 'cuisines': 'chinese', 'dish_liked': 'pasta', 'approx_cost': '800'}}ad}\n",
      "Matches found: [\"{'Location': 'delhi', 'cuisines': 'chinese', 'dish_liked': 'pasta', 'approx_cost': '800'}\"]\n",
      "Extracted dictionary string: {'Location': 'delhi', 'cuisines': 'chinese', 'dish_liked': 'pasta', 'approx_cost': '800'}\n",
      "Extracted dictionary: {'Location': '', 'cuisines': 'Chinese', 'dish_liked': 'Pasta', 'approx_cost': 800.0}\n"
     ]
    }
   ],
   "source": [
    "string_1 = \"Location: 'Delhi', cuisines: 'Chinese', dish_liked: 'pasta', approx_cost: '1000'\"\n",
    "extracted_dict = extract_dictionary_from_string(string)\n",
    "print(f\"Extracted dictionary: {extracted_dict}\")"
   ]
  },
  {
   "cell_type": "code",
   "execution_count": 41,
   "id": "8008aee9-c28d-4144-98aa-e7148d2e898a",
   "metadata": {},
   "outputs": [],
   "source": [
    "def compare_restaurants_with_user(user_req_string):\n",
    "    # Load the restaurant data (updated_restaurant.csv) into a DataFrame\n",
    "    restaurant_df = pd.read_csv(r\"C:\\Users\\Neha\\updated_restaurant.csv\")\n",
    "\n",
    "    # Extract the user requirements from the input string\n",
    "    user_requirements = extract_dictionary_from_string(user_req_string)\n",
    "    \n",
    "    if user_requirements is None:\n",
    "        print(\"Error: User requirements could not be extracted. Please check the input string format.\")\n",
    "        return None  # Return None or an empty response to indicate failure\n",
    "    \n",
    "    print(f\"User Requirements: {user_requirements}\")\n",
    "\n",
    "    # Extract the user's 'approx_cost' (which is the budget)\n",
    "    approx_cost = float(user_requirements.get('approx_cost', 0))  # Ensure it's a number\n",
    "    print(f\"Approx Cost (Budget): {approx_cost}\")\n",
    "    \n",
    "    # Create a copy of the restaurant DataFrame for filtering\n",
    "    filtered_restaurants = restaurant_df.copy()\n",
    "    \n",
    "    # Normalize the column names\n",
    "    approx_cost_column = 'approx_cost_for_two_people'  # The normalized name\n",
    "    if approx_cost_column in filtered_restaurants.columns:\n",
    "        # Clean up the 'approx_cost_for_two_people' column and convert to float\n",
    "        filtered_restaurants[approx_cost_column] = filtered_restaurants[approx_cost_column].str.replace(',', '').astype(float)\n",
    "    else:\n",
    "        print(\"Error: 'approx_cost_for_two_people' column is missing.\")\n",
    "        return None  # Handle this case as needed\n",
    "    \n",
    "    # Filter restaurants by budget (approx_cost)\n",
    "    filtered_restaurants = filtered_restaurants[filtered_restaurants[approx_cost_column] <= approx_cost].copy()\n",
    "\n",
    "    # Mappings for comparison (this assumes 'low', 'medium', 'high' values are in the data)\n",
    "    mappings = {\n",
    "        'low': 0,\n",
    "        'medium': 1,\n",
    "        'high': 2\n",
    "    }\n",
    "\n",
    "    # Create a 'Score' column initialized to 0\n",
    "    filtered_restaurants['Score'] = 0\n",
    "\n",
    "    # Loop through each restaurant in the filtered DataFrame\n",
    "    for index, row in filtered_restaurants.iterrows():\n",
    "        # Get the features of the restaurant\n",
    "        restaurant_features = extract_dictionary_from_string(row['restaurant_feature'])\n",
    "        \n",
    "        # Initialize the score\n",
    "        score = 0\n",
    "\n",
    "        # Compare user requirements with restaurant features\n",
    "        for key, user_value in user_requirements.items():\n",
    "            if key.lower() == 'approx_cost':\n",
    "                continue  # Skip comparison for 'approx_cost' as it's handled separately\n",
    "            \n",
    "            # Get the restaurant value for the key\n",
    "            restaurant_value = restaurant_features.get(key, None)\n",
    "            \n",
    "            if restaurant_value:\n",
    "                # Map the values to numerical scores for comparison\n",
    "                restaurant_mapping = mappings.get(restaurant_value.lower(), -1)\n",
    "                user_mapping = mappings.get(user_value.lower(), -1)\n",
    "\n",
    "                # Compare the restaurant value to the user's value\n",
    "                if restaurant_mapping >= user_mapping:\n",
    "                    score += 1\n",
    "\n",
    "        # Assign the computed score to the restaurant's row\n",
    "        filtered_restaurants.loc[index, 'Score'] = score\n",
    "\n",
    "    # Sort the filtered restaurants by their score in descending order\n",
    "    top_restaurants = filtered_restaurants.drop('restaurant_feature', axis=1)\n",
    "    top_restaurants = top_restaurants.sort_values('Score', ascending=False).head(3)\n",
    "\n",
    "    # Return the top restaurants as JSON\n",
    "    return top_restaurants.to_json(orient='records')\n"
   ]
  },
  {
   "cell_type": "code",
   "execution_count": 42,
   "id": "41a15adc-ce0b-4510-a0a5-ba9eb855ea12",
   "metadata": {},
   "outputs": [
    {
     "name": "stdout",
     "output_type": "stream",
     "text": [
      "String after wrapping with braces: {'Location': 'Delhi', 'cuisines': 'Chinese', 'dish_liked': 'pasta', 'approx_cost': '1000'}\n",
      "Matches found: [\"{'Location': 'Delhi', 'cuisines': 'Chinese', 'dish_liked': 'pasta', 'approx_cost': '1000'}\"]\n",
      "Extracted dictionary string: {'Location': 'Delhi', 'cuisines': 'Chinese', 'dish_liked': 'pasta', 'approx_cost': '1000'}\n",
      "User Requirements: {'Location': '', 'cuisines': 'Chinese', 'dish_liked': 'Pasta', 'approx_cost': 1000.0}\n",
      "Approx Cost (Budget): 1000.0\n",
      "Error: 'approx_cost_for_two_people' column is missing.\n",
      "{'Location': 'Delhi', 'cuisines': 'Chinese', 'dish_liked': 'pasta', 'approx_cost': '1000'}\n"
     ]
    }
   ],
   "source": [
    "user_req_string = \"{'Location': 'Delhi', 'cuisines': 'Chinese', 'dish_liked': 'pasta', 'approx_cost': '1000'}\"\n",
    "comparision_result = compare_restaurants_with_user(user_req_string)\n",
    "print (user_req_string)"
   ]
  },
  {
   "cell_type": "code",
   "execution_count": 43,
   "id": "90f65be7-6acb-476f-b4e3-86bf2fc785dc",
   "metadata": {},
   "outputs": [
    {
     "name": "stdout",
     "output_type": "stream",
     "text": [
      "String after wrapping with braces: {def extract_dictionary(input_str):\n",
      "    import ast\n",
      "\n",
      "    # Try to extract Python dictionary from the input string\n",
      "    try:\n",
      "        extracted_dict = ast.literal_eval(input_str)\n",
      "        \n",
      "        # Check if the extracted object is a dictionary\n",
      "        if isinstance(extracted_dict, dict):\n",
      "            # Check if the dictionary has the required keys\n",
      "            if all(key in extracted_dict for key in ['Location', 'cuisines', 'dish_liked', 'approx_cost']):\n",
      "                return extracted_dict\n",
      "    except (SyntaxError, ValueError):\n",
      "        pass\n",
      "    \n",
      "    return None\n",
      "\n",
      "input_str = \"{'Location': 'Delhi', 'cuisines': 'Chinese', 'dish_liked': 'pasta', 'approx_cost': '800'}\"\n",
      "output_dict = extract_dictionary(input_str)\n",
      "\n",
      "print(output_dict)   # Output: {'Location': 'Delhi', 'cuisines': 'Chinese', 'dish_liked': 'pasta', 'approx_cost': '800'}}\n",
      "Matches found: [\"{'Location': 'Delhi', 'cuisines': 'Chinese', 'dish_liked': 'pasta', 'approx_cost': '800'}\", \"{'Location': 'Delhi', 'cuisines': 'Chinese', 'dish_liked': 'pasta', 'approx_cost': '800'}\"]\n",
      "Extracted dictionary string: {'Location': 'Delhi', 'cuisines': 'Chinese', 'dish_liked': 'pasta', 'approx_cost': '800'}\n",
      "User Requirements: {'Location': '', 'cuisines': 'Chinese', 'dish_liked': 'Pasta', 'approx_cost': 800.0}\n",
      "Approx Cost (Budget): 800.0\n",
      "Error: 'approx_cost_for_two_people' column is missing.\n",
      "None\n"
     ]
    }
   ],
   "source": [
    "top_3_restaurants = compare_restaurants_with_user(response_dict_n)\n",
    "print(top_3_restaurants)"
   ]
  },
  {
   "cell_type": "code",
   "execution_count": 44,
   "id": "576978e6-a206-4e2d-a258-a87ca46a2391",
   "metadata": {},
   "outputs": [],
   "source": [
    "def verify_recommendations(user_req_string, top_restaurants_json):\n",
    "    \"\"\"\n",
    "    Verifies if the recommended restaurants meet the user's requirements.\n",
    "    \n",
    "    Parameters:\n",
    "    user_req_string (str): The input string containing the user's preferences.\n",
    "    top_restaurants_json (str): JSON string containing the top recommended restaurants.\n",
    "    \n",
    "    Returns:\n",
    "    str: Verification result message.\n",
    "    \"\"\"\n",
    "    import json\n",
    "    \n",
    "    # Parse the top restaurants JSON into a DataFrame or dictionary\n",
    "    top_restaurants = pd.read_json(top_restaurants_json)\n",
    "\n",
    "    # Extract the user requirements from the input string\n",
    "    user_requirements = extract_dictionary_from_string(user_req_string)\n",
    "\n",
    "    if user_requirements is None:\n",
    "        return \"Error: User requirements could not be extracted. Please check the input string format.\"\n",
    "\n",
    "    # Check if top restaurants list is empty\n",
    "    if top_restaurants.empty:\n",
    "        return \"No restaurants found that meet the requirements.\"\n",
    "\n",
    "    # Initialize the verification message\n",
    "    verification_message = \"Verification Result:\\n\"\n",
    "    all_requirements_met = True  # Flag to check if all requirements are met\n",
    "\n",
    "    # Check each restaurant's attributes against user requirements\n",
    "    for index, row in top_restaurants.iterrows():\n",
    "        restaurant_name = row['name']\n",
    "    \n"
   ]
  },
  {
   "cell_type": "code",
   "execution_count": 45,
   "id": "6d86ea2a-0756-45e7-85b1-26fcfaad50bb",
   "metadata": {},
   "outputs": [
    {
     "name": "stdout",
     "output_type": "stream",
     "text": [
      "String after wrapping with braces: {'Location': 'Delhi', 'cuisines': 'Chinese', 'dish_liked': 'pasta', 'approx_cost': '1000'}\n",
      "Matches found: [\"{'Location': 'Delhi', 'cuisines': 'Chinese', 'dish_liked': 'pasta', 'approx_cost': '1000'}\"]\n",
      "Extracted dictionary string: {'Location': 'Delhi', 'cuisines': 'Chinese', 'dish_liked': 'pasta', 'approx_cost': '1000'}\n",
      "User Requirements: {'Location': '', 'cuisines': 'Chinese', 'dish_liked': 'Pasta', 'approx_cost': 1000.0}\n",
      "Approx Cost (Budget): 1000.0\n",
      "Error: 'approx_cost_for_two_people' column is missing.\n"
     ]
    },
    {
     "ename": "ValueError",
     "evalue": "Invalid file path or buffer object type: <class 'NoneType'>",
     "output_type": "error",
     "traceback": [
      "\u001b[1;31m---------------------------------------------------------------------------\u001b[0m",
      "\u001b[1;31mValueError\u001b[0m                                Traceback (most recent call last)",
      "Cell \u001b[1;32mIn[45], line 8\u001b[0m\n\u001b[0;32m      5\u001b[0m top_restaurants_json \u001b[38;5;241m=\u001b[39m compare_restaurants_with_user(user_req_string)\n\u001b[0;32m      7\u001b[0m \u001b[38;5;66;03m# Now validate the recommendations\u001b[39;00m\n\u001b[1;32m----> 8\u001b[0m validated_data \u001b[38;5;241m=\u001b[39m verify_recommendations(user_req_string, top_restaurants_json)\n\u001b[0;32m      9\u001b[0m \u001b[38;5;28mprint\u001b[39m(validated_data)\n",
      "Cell \u001b[1;32mIn[44], line 15\u001b[0m, in \u001b[0;36mverify_recommendations\u001b[1;34m(user_req_string, top_restaurants_json)\u001b[0m\n\u001b[0;32m     12\u001b[0m \u001b[38;5;28;01mimport\u001b[39;00m \u001b[38;5;21;01mjson\u001b[39;00m\n\u001b[0;32m     14\u001b[0m \u001b[38;5;66;03m# Parse the top restaurants JSON into a DataFrame or dictionary\u001b[39;00m\n\u001b[1;32m---> 15\u001b[0m top_restaurants \u001b[38;5;241m=\u001b[39m pd\u001b[38;5;241m.\u001b[39mread_json(top_restaurants_json)\n\u001b[0;32m     17\u001b[0m \u001b[38;5;66;03m# Extract the user requirements from the input string\u001b[39;00m\n\u001b[0;32m     18\u001b[0m user_requirements \u001b[38;5;241m=\u001b[39m extract_dictionary_from_string(user_req_string)\n",
      "File \u001b[1;32m~\\anaconda3\\Lib\\site-packages\\pandas\\io\\json\\_json.py:791\u001b[0m, in \u001b[0;36mread_json\u001b[1;34m(path_or_buf, orient, typ, dtype, convert_axes, convert_dates, keep_default_dates, precise_float, date_unit, encoding, encoding_errors, lines, chunksize, compression, nrows, storage_options, dtype_backend, engine)\u001b[0m\n\u001b[0;32m    788\u001b[0m \u001b[38;5;28;01mif\u001b[39;00m convert_axes \u001b[38;5;129;01mis\u001b[39;00m \u001b[38;5;28;01mNone\u001b[39;00m \u001b[38;5;129;01mand\u001b[39;00m orient \u001b[38;5;241m!=\u001b[39m \u001b[38;5;124m\"\u001b[39m\u001b[38;5;124mtable\u001b[39m\u001b[38;5;124m\"\u001b[39m:\n\u001b[0;32m    789\u001b[0m     convert_axes \u001b[38;5;241m=\u001b[39m \u001b[38;5;28;01mTrue\u001b[39;00m\n\u001b[1;32m--> 791\u001b[0m json_reader \u001b[38;5;241m=\u001b[39m JsonReader(\n\u001b[0;32m    792\u001b[0m     path_or_buf,\n\u001b[0;32m    793\u001b[0m     orient\u001b[38;5;241m=\u001b[39morient,\n\u001b[0;32m    794\u001b[0m     typ\u001b[38;5;241m=\u001b[39mtyp,\n\u001b[0;32m    795\u001b[0m     dtype\u001b[38;5;241m=\u001b[39mdtype,\n\u001b[0;32m    796\u001b[0m     convert_axes\u001b[38;5;241m=\u001b[39mconvert_axes,\n\u001b[0;32m    797\u001b[0m     convert_dates\u001b[38;5;241m=\u001b[39mconvert_dates,\n\u001b[0;32m    798\u001b[0m     keep_default_dates\u001b[38;5;241m=\u001b[39mkeep_default_dates,\n\u001b[0;32m    799\u001b[0m     precise_float\u001b[38;5;241m=\u001b[39mprecise_float,\n\u001b[0;32m    800\u001b[0m     date_unit\u001b[38;5;241m=\u001b[39mdate_unit,\n\u001b[0;32m    801\u001b[0m     encoding\u001b[38;5;241m=\u001b[39mencoding,\n\u001b[0;32m    802\u001b[0m     lines\u001b[38;5;241m=\u001b[39mlines,\n\u001b[0;32m    803\u001b[0m     chunksize\u001b[38;5;241m=\u001b[39mchunksize,\n\u001b[0;32m    804\u001b[0m     compression\u001b[38;5;241m=\u001b[39mcompression,\n\u001b[0;32m    805\u001b[0m     nrows\u001b[38;5;241m=\u001b[39mnrows,\n\u001b[0;32m    806\u001b[0m     storage_options\u001b[38;5;241m=\u001b[39mstorage_options,\n\u001b[0;32m    807\u001b[0m     encoding_errors\u001b[38;5;241m=\u001b[39mencoding_errors,\n\u001b[0;32m    808\u001b[0m     dtype_backend\u001b[38;5;241m=\u001b[39mdtype_backend,\n\u001b[0;32m    809\u001b[0m     engine\u001b[38;5;241m=\u001b[39mengine,\n\u001b[0;32m    810\u001b[0m )\n\u001b[0;32m    812\u001b[0m \u001b[38;5;28;01mif\u001b[39;00m chunksize:\n\u001b[0;32m    813\u001b[0m     \u001b[38;5;28;01mreturn\u001b[39;00m json_reader\n",
      "File \u001b[1;32m~\\anaconda3\\Lib\\site-packages\\pandas\\io\\json\\_json.py:904\u001b[0m, in \u001b[0;36mJsonReader.__init__\u001b[1;34m(self, filepath_or_buffer, orient, typ, dtype, convert_axes, convert_dates, keep_default_dates, precise_float, date_unit, encoding, lines, chunksize, compression, nrows, storage_options, encoding_errors, dtype_backend, engine)\u001b[0m\n\u001b[0;32m    902\u001b[0m     \u001b[38;5;28mself\u001b[39m\u001b[38;5;241m.\u001b[39mdata \u001b[38;5;241m=\u001b[39m filepath_or_buffer\n\u001b[0;32m    903\u001b[0m \u001b[38;5;28;01melif\u001b[39;00m \u001b[38;5;28mself\u001b[39m\u001b[38;5;241m.\u001b[39mengine \u001b[38;5;241m==\u001b[39m \u001b[38;5;124m\"\u001b[39m\u001b[38;5;124mujson\u001b[39m\u001b[38;5;124m\"\u001b[39m:\n\u001b[1;32m--> 904\u001b[0m     data \u001b[38;5;241m=\u001b[39m \u001b[38;5;28mself\u001b[39m\u001b[38;5;241m.\u001b[39m_get_data_from_filepath(filepath_or_buffer)\n\u001b[0;32m    905\u001b[0m     \u001b[38;5;28mself\u001b[39m\u001b[38;5;241m.\u001b[39mdata \u001b[38;5;241m=\u001b[39m \u001b[38;5;28mself\u001b[39m\u001b[38;5;241m.\u001b[39m_preprocess_data(data)\n",
      "File \u001b[1;32m~\\anaconda3\\Lib\\site-packages\\pandas\\io\\json\\_json.py:944\u001b[0m, in \u001b[0;36mJsonReader._get_data_from_filepath\u001b[1;34m(self, filepath_or_buffer)\u001b[0m\n\u001b[0;32m    937\u001b[0m filepath_or_buffer \u001b[38;5;241m=\u001b[39m stringify_path(filepath_or_buffer)\n\u001b[0;32m    938\u001b[0m \u001b[38;5;28;01mif\u001b[39;00m (\n\u001b[0;32m    939\u001b[0m     \u001b[38;5;129;01mnot\u001b[39;00m \u001b[38;5;28misinstance\u001b[39m(filepath_or_buffer, \u001b[38;5;28mstr\u001b[39m)\n\u001b[0;32m    940\u001b[0m     \u001b[38;5;129;01mor\u001b[39;00m is_url(filepath_or_buffer)\n\u001b[0;32m    941\u001b[0m     \u001b[38;5;129;01mor\u001b[39;00m is_fsspec_url(filepath_or_buffer)\n\u001b[0;32m    942\u001b[0m     \u001b[38;5;129;01mor\u001b[39;00m file_exists(filepath_or_buffer)\n\u001b[0;32m    943\u001b[0m ):\n\u001b[1;32m--> 944\u001b[0m     \u001b[38;5;28mself\u001b[39m\u001b[38;5;241m.\u001b[39mhandles \u001b[38;5;241m=\u001b[39m get_handle(\n\u001b[0;32m    945\u001b[0m         filepath_or_buffer,\n\u001b[0;32m    946\u001b[0m         \u001b[38;5;124m\"\u001b[39m\u001b[38;5;124mr\u001b[39m\u001b[38;5;124m\"\u001b[39m,\n\u001b[0;32m    947\u001b[0m         encoding\u001b[38;5;241m=\u001b[39m\u001b[38;5;28mself\u001b[39m\u001b[38;5;241m.\u001b[39mencoding,\n\u001b[0;32m    948\u001b[0m         compression\u001b[38;5;241m=\u001b[39m\u001b[38;5;28mself\u001b[39m\u001b[38;5;241m.\u001b[39mcompression,\n\u001b[0;32m    949\u001b[0m         storage_options\u001b[38;5;241m=\u001b[39m\u001b[38;5;28mself\u001b[39m\u001b[38;5;241m.\u001b[39mstorage_options,\n\u001b[0;32m    950\u001b[0m         errors\u001b[38;5;241m=\u001b[39m\u001b[38;5;28mself\u001b[39m\u001b[38;5;241m.\u001b[39mencoding_errors,\n\u001b[0;32m    951\u001b[0m     )\n\u001b[0;32m    952\u001b[0m     filepath_or_buffer \u001b[38;5;241m=\u001b[39m \u001b[38;5;28mself\u001b[39m\u001b[38;5;241m.\u001b[39mhandles\u001b[38;5;241m.\u001b[39mhandle\n\u001b[0;32m    953\u001b[0m \u001b[38;5;28;01melif\u001b[39;00m (\n\u001b[0;32m    954\u001b[0m     \u001b[38;5;28misinstance\u001b[39m(filepath_or_buffer, \u001b[38;5;28mstr\u001b[39m)\n\u001b[0;32m    955\u001b[0m     \u001b[38;5;129;01mand\u001b[39;00m filepath_or_buffer\u001b[38;5;241m.\u001b[39mlower()\u001b[38;5;241m.\u001b[39mendswith(\n\u001b[1;32m   (...)\u001b[0m\n\u001b[0;32m    958\u001b[0m     \u001b[38;5;129;01mand\u001b[39;00m \u001b[38;5;129;01mnot\u001b[39;00m file_exists(filepath_or_buffer)\n\u001b[0;32m    959\u001b[0m ):\n",
      "File \u001b[1;32m~\\anaconda3\\Lib\\site-packages\\pandas\\io\\common.py:728\u001b[0m, in \u001b[0;36mget_handle\u001b[1;34m(path_or_buf, mode, encoding, compression, memory_map, is_text, errors, storage_options)\u001b[0m\n\u001b[0;32m    725\u001b[0m     codecs\u001b[38;5;241m.\u001b[39mlookup_error(errors)\n\u001b[0;32m    727\u001b[0m \u001b[38;5;66;03m# open URLs\u001b[39;00m\n\u001b[1;32m--> 728\u001b[0m ioargs \u001b[38;5;241m=\u001b[39m _get_filepath_or_buffer(\n\u001b[0;32m    729\u001b[0m     path_or_buf,\n\u001b[0;32m    730\u001b[0m     encoding\u001b[38;5;241m=\u001b[39mencoding,\n\u001b[0;32m    731\u001b[0m     compression\u001b[38;5;241m=\u001b[39mcompression,\n\u001b[0;32m    732\u001b[0m     mode\u001b[38;5;241m=\u001b[39mmode,\n\u001b[0;32m    733\u001b[0m     storage_options\u001b[38;5;241m=\u001b[39mstorage_options,\n\u001b[0;32m    734\u001b[0m )\n\u001b[0;32m    736\u001b[0m handle \u001b[38;5;241m=\u001b[39m ioargs\u001b[38;5;241m.\u001b[39mfilepath_or_buffer\n\u001b[0;32m    737\u001b[0m handles: \u001b[38;5;28mlist\u001b[39m[BaseBuffer]\n",
      "File \u001b[1;32m~\\anaconda3\\Lib\\site-packages\\pandas\\io\\common.py:472\u001b[0m, in \u001b[0;36m_get_filepath_or_buffer\u001b[1;34m(filepath_or_buffer, encoding, compression, mode, storage_options)\u001b[0m\n\u001b[0;32m    468\u001b[0m \u001b[38;5;28;01mif\u001b[39;00m \u001b[38;5;129;01mnot\u001b[39;00m (\n\u001b[0;32m    469\u001b[0m     \u001b[38;5;28mhasattr\u001b[39m(filepath_or_buffer, \u001b[38;5;124m\"\u001b[39m\u001b[38;5;124mread\u001b[39m\u001b[38;5;124m\"\u001b[39m) \u001b[38;5;129;01mor\u001b[39;00m \u001b[38;5;28mhasattr\u001b[39m(filepath_or_buffer, \u001b[38;5;124m\"\u001b[39m\u001b[38;5;124mwrite\u001b[39m\u001b[38;5;124m\"\u001b[39m)\n\u001b[0;32m    470\u001b[0m ):\n\u001b[0;32m    471\u001b[0m     msg \u001b[38;5;241m=\u001b[39m \u001b[38;5;124mf\u001b[39m\u001b[38;5;124m\"\u001b[39m\u001b[38;5;124mInvalid file path or buffer object type: \u001b[39m\u001b[38;5;132;01m{\u001b[39;00m\u001b[38;5;28mtype\u001b[39m(filepath_or_buffer)\u001b[38;5;132;01m}\u001b[39;00m\u001b[38;5;124m\"\u001b[39m\n\u001b[1;32m--> 472\u001b[0m     \u001b[38;5;28;01mraise\u001b[39;00m \u001b[38;5;167;01mValueError\u001b[39;00m(msg)\n\u001b[0;32m    474\u001b[0m \u001b[38;5;28;01mreturn\u001b[39;00m IOArgs(\n\u001b[0;32m    475\u001b[0m     filepath_or_buffer\u001b[38;5;241m=\u001b[39mfilepath_or_buffer,\n\u001b[0;32m    476\u001b[0m     encoding\u001b[38;5;241m=\u001b[39mencoding,\n\u001b[1;32m   (...)\u001b[0m\n\u001b[0;32m    479\u001b[0m     mode\u001b[38;5;241m=\u001b[39mmode,\n\u001b[0;32m    480\u001b[0m )\n",
      "\u001b[1;31mValueError\u001b[0m: Invalid file path or buffer object type: <class 'NoneType'>"
     ]
    }
   ],
   "source": [
    "# Assuming top_3_restaurants is the output of compare_restaurants_with_user\n",
    "user_req_string = \"{'Location': 'Delhi', 'cuisines': 'Chinese', 'dish_liked': 'pasta', 'approx_cost': '1000'}\"\n",
    "\n",
    "# Get the recommendations as JSON (using the compare_restaurants_with_user function)\n",
    "top_restaurants_json = compare_restaurants_with_user(user_req_string)\n",
    "\n",
    "# Now validate the recommendations\n",
    "validated_data = verify_recommendations(user_req_string, top_restaurants_json)\n",
    "print(validated_data)\n"
   ]
  },
  {
   "cell_type": "code",
   "execution_count": null,
   "id": "a2b5b369-9e36-45b6-88e5-b85142fa7b71",
   "metadata": {},
   "outputs": [],
   "source": []
  }
 ],
 "metadata": {
  "kernelspec": {
   "display_name": "Python 3 (ipykernel)",
   "language": "python",
   "name": "python3"
  },
  "language_info": {
   "codemirror_mode": {
    "name": "ipython",
    "version": 3
   },
   "file_extension": ".py",
   "mimetype": "text/x-python",
   "name": "python",
   "nbconvert_exporter": "python",
   "pygments_lexer": "ipython3",
   "version": "3.12.4"
  }
 },
 "nbformat": 4,
 "nbformat_minor": 5
}
